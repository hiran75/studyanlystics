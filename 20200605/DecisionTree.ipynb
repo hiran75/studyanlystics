{
 "cells": [
  {
   "cell_type": "code",
   "execution_count": 11,
   "metadata": {},
   "outputs": [],
   "source": [
    "from keras.models import Sequential\n",
    "from keras.layers import Dense\n",
    "from sklearn.model_selection import train_test_split\n",
    "\n",
    "import numpy\n",
    "import pandas as pd\n",
    "import tensorflow as tf\n",
    "\n",
    "\n",
    "# seed 값 설정\n",
    "seed = 0\n",
    "numpy.random.seed(seed)\n",
    "tf.set_random_seed(seed)\n",
    "\n",
    "\n",
    "# 의사결정 트리 알고리즘 서브 패키지를 불러들임\n",
    "from sklearn.tree import DecisionTreeClassifier\n",
    "\n",
    "from sklearn.metrics import classification_report"
   ]
  },
  {
   "cell_type": "code",
   "execution_count": 16,
   "metadata": {},
   "outputs": [],
   "source": [
    "#features =14\n",
    "#filename=\"./dataset/20200614_v1.csv\"\n",
    "#filename=\"./dataset/20200717_v1.csv\"\n",
    "\n",
    "features =20\n",
    "filename=\"./dataset/20200605_v1.csv\"\n",
    "# 데이터 읽어 들이기--- (※1)\n",
    "df_pre = pd.read_csv(filename, header=0)\n",
    "#df_pre=pd.read_csv('./dataset/sjcu_stddata_v11_notitle.csv',encoding=\"cp949\", header=None) # CSV파일을 불러오는 함수를 이용\n",
    "#df_pre.tail()"
   ]
  },
  {
   "cell_type": "code",
   "execution_count": 17,
   "metadata": {},
   "outputs": [],
   "source": [
    "# 데이터 내부의 기호를 숫자로 변환하기--- (※2)\n",
    "df = df_pre.sample(frac=1)\n",
    "dataset = df.values\n",
    "X = dataset[:,0:features]\n",
    "Y = dataset[:,features]"
   ]
  },
  {
   "cell_type": "code",
   "execution_count": 18,
   "metadata": {},
   "outputs": [],
   "source": [
    "# 학습 전용과 테스트 전용 데이터로 나누기 --- (※3)\n",
    "#테스트, 검증데이터 분학 7:3 \n",
    "X_train, X_test, Y_train, Y_test = train_test_split(X, Y, test_size=0.3, random_state=seed)\n",
    "X_train, X_test = X_train / 255., X_test / 255."
   ]
  },
  {
   "cell_type": "code",
   "execution_count": 19,
   "metadata": {},
   "outputs": [
    {
     "data": {
      "text/plain": [
       "DecisionTreeClassifier(ccp_alpha=0.0, class_weight=None, criterion='gini',\n",
       "                       max_depth=None, max_features=None, max_leaf_nodes=None,\n",
       "                       min_impurity_decrease=0.0, min_impurity_split=None,\n",
       "                       min_samples_leaf=1, min_samples_split=2,\n",
       "                       min_weight_fraction_leaf=0.0, presort='deprecated',\n",
       "                       random_state=None, splitter='best')"
      ]
     },
     "execution_count": 19,
     "metadata": {},
     "output_type": "execute_result"
    }
   ],
   "source": [
    "clf = DecisionTreeClassifier()\n",
    "clf.fit(X_train, Y_train)"
   ]
  },
  {
   "cell_type": "code",
   "execution_count": 20,
   "metadata": {},
   "outputs": [
    {
     "name": "stdout",
     "output_type": "stream",
     "text": [
      "DecisionTreeClassifier:\n",
      "r\r",
      "               precision    recall  f1-score   support\n",
      "\n",
      "         0.0       0.71      0.72      0.71      5244\n",
      "         1.0       0.88      0.87      0.88     12183\n",
      "\n",
      "    accuracy                           0.83     17427\n",
      "   macro avg       0.79      0.80      0.79     17427\n",
      "weighted avg       0.83      0.83      0.83     17427\n",
      "\n",
      "Accuracy: 0.83\n"
     ]
    }
   ],
   "source": [
    "from sklearn.metrics import classification_report\n",
    "from sklearn.metrics import accuracy_score\n",
    "\n",
    "Y_prediction = clf.predict(X_test)\n",
    "\n",
    "\n",
    "print('DecisionTreeClassifier:\\nr\\r', classification_report(Y_test, Y_prediction))\n",
    "print('Accuracy: %.2f' % accuracy_score(Y_test, Y_prediction))"
   ]
  },
  {
   "cell_type": "code",
   "execution_count": null,
   "metadata": {},
   "outputs": [],
   "source": []
  },
  {
   "cell_type": "code",
   "execution_count": null,
   "metadata": {},
   "outputs": [],
   "source": []
  }
 ],
 "metadata": {
  "kernelspec": {
   "display_name": "Python 3",
   "language": "python",
   "name": "python3"
  },
  "language_info": {
   "codemirror_mode": {
    "name": "ipython",
    "version": 3
   },
   "file_extension": ".py",
   "mimetype": "text/x-python",
   "name": "python",
   "nbconvert_exporter": "python",
   "pygments_lexer": "ipython3",
   "version": "3.7.7"
  }
 },
 "nbformat": 4,
 "nbformat_minor": 4
}
