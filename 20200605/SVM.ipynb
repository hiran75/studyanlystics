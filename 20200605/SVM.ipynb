{
 "cells": [
  {
   "cell_type": "code",
   "execution_count": 2,
   "metadata": {},
   "outputs": [
    {
     "name": "stderr",
     "output_type": "stream",
     "text": [
      "C:\\programs\\anaconda3\\lib\\site-packages\\tensorflow\\python\\framework\\dtypes.py:516: FutureWarning: Passing (type, 1) or '1type' as a synonym of type is deprecated; in a future version of numpy, it will be understood as (type, (1,)) / '(1,)type'.\n",
      "  _np_qint8 = np.dtype([(\"qint8\", np.int8, 1)])\n",
      "C:\\programs\\anaconda3\\lib\\site-packages\\tensorflow\\python\\framework\\dtypes.py:517: FutureWarning: Passing (type, 1) or '1type' as a synonym of type is deprecated; in a future version of numpy, it will be understood as (type, (1,)) / '(1,)type'.\n",
      "  _np_quint8 = np.dtype([(\"quint8\", np.uint8, 1)])\n",
      "C:\\programs\\anaconda3\\lib\\site-packages\\tensorflow\\python\\framework\\dtypes.py:518: FutureWarning: Passing (type, 1) or '1type' as a synonym of type is deprecated; in a future version of numpy, it will be understood as (type, (1,)) / '(1,)type'.\n",
      "  _np_qint16 = np.dtype([(\"qint16\", np.int16, 1)])\n",
      "C:\\programs\\anaconda3\\lib\\site-packages\\tensorflow\\python\\framework\\dtypes.py:519: FutureWarning: Passing (type, 1) or '1type' as a synonym of type is deprecated; in a future version of numpy, it will be understood as (type, (1,)) / '(1,)type'.\n",
      "  _np_quint16 = np.dtype([(\"quint16\", np.uint16, 1)])\n",
      "C:\\programs\\anaconda3\\lib\\site-packages\\tensorflow\\python\\framework\\dtypes.py:520: FutureWarning: Passing (type, 1) or '1type' as a synonym of type is deprecated; in a future version of numpy, it will be understood as (type, (1,)) / '(1,)type'.\n",
      "  _np_qint32 = np.dtype([(\"qint32\", np.int32, 1)])\n",
      "C:\\programs\\anaconda3\\lib\\site-packages\\tensorflow\\python\\framework\\dtypes.py:525: FutureWarning: Passing (type, 1) or '1type' as a synonym of type is deprecated; in a future version of numpy, it will be understood as (type, (1,)) / '(1,)type'.\n",
      "  np_resource = np.dtype([(\"resource\", np.ubyte, 1)])\n",
      "C:\\programs\\anaconda3\\lib\\site-packages\\tensorboard\\compat\\tensorflow_stub\\dtypes.py:541: FutureWarning: Passing (type, 1) or '1type' as a synonym of type is deprecated; in a future version of numpy, it will be understood as (type, (1,)) / '(1,)type'.\n",
      "  _np_qint8 = np.dtype([(\"qint8\", np.int8, 1)])\n",
      "C:\\programs\\anaconda3\\lib\\site-packages\\tensorboard\\compat\\tensorflow_stub\\dtypes.py:542: FutureWarning: Passing (type, 1) or '1type' as a synonym of type is deprecated; in a future version of numpy, it will be understood as (type, (1,)) / '(1,)type'.\n",
      "  _np_quint8 = np.dtype([(\"quint8\", np.uint8, 1)])\n",
      "C:\\programs\\anaconda3\\lib\\site-packages\\tensorboard\\compat\\tensorflow_stub\\dtypes.py:543: FutureWarning: Passing (type, 1) or '1type' as a synonym of type is deprecated; in a future version of numpy, it will be understood as (type, (1,)) / '(1,)type'.\n",
      "  _np_qint16 = np.dtype([(\"qint16\", np.int16, 1)])\n",
      "C:\\programs\\anaconda3\\lib\\site-packages\\tensorboard\\compat\\tensorflow_stub\\dtypes.py:544: FutureWarning: Passing (type, 1) or '1type' as a synonym of type is deprecated; in a future version of numpy, it will be understood as (type, (1,)) / '(1,)type'.\n",
      "  _np_quint16 = np.dtype([(\"quint16\", np.uint16, 1)])\n",
      "C:\\programs\\anaconda3\\lib\\site-packages\\tensorboard\\compat\\tensorflow_stub\\dtypes.py:545: FutureWarning: Passing (type, 1) or '1type' as a synonym of type is deprecated; in a future version of numpy, it will be understood as (type, (1,)) / '(1,)type'.\n",
      "  _np_qint32 = np.dtype([(\"qint32\", np.int32, 1)])\n",
      "C:\\programs\\anaconda3\\lib\\site-packages\\tensorboard\\compat\\tensorflow_stub\\dtypes.py:550: FutureWarning: Passing (type, 1) or '1type' as a synonym of type is deprecated; in a future version of numpy, it will be understood as (type, (1,)) / '(1,)type'.\n",
      "  np_resource = np.dtype([(\"resource\", np.ubyte, 1)])\n"
     ]
    }
   ],
   "source": [
    "#SVM활용하여 학업성과예측 모델 구현\n",
    "# 2018. 6.18 박희순\n",
    "# 데이터 셋 : 2013년 ~ 2017년 학습데이터 \n",
    "#gradua,schoarYn,Access,Attend,Activity,LecCnt,StepTime,Homework,mobileRate,PassRate,GrateAvg\n",
    "#최종학력,경제적 부담,로그인횟수,학습시간,학습활동,총강의갯수,총강의시간,학습활동 개수,모바일사용환경,이수율,평균평점\n",
    "\n",
    "\n",
    "from sklearn import svm, metrics, model_selection\n",
    "from sklearn.ensemble import RandomForestClassifier\n",
    "import random, re\n",
    "from sklearn.metrics import accuracy_score\n",
    "import numpy\n",
    "import pandas as pd\n",
    "import tensorflow as tf\n",
    "from sklearn.model_selection import train_test_split\n"
   ]
  },
  {
   "cell_type": "code",
   "execution_count": 3,
   "metadata": {},
   "outputs": [],
   "source": [
    "# seed 값 설정\n",
    "seed = 0\n",
    "numpy.random.seed(seed)\n",
    "tf.set_random_seed(seed)\n",
    "\n"
   ]
  },
  {
   "cell_type": "code",
   "execution_count": 4,
   "metadata": {},
   "outputs": [
    {
     "name": "stdout",
     "output_type": "stream",
     "text": [
      "<class 'pandas.core.frame.DataFrame'>\n",
      "RangeIndex: 58088 entries, 0 to 58087\n",
      "Data columns (total 21 columns):\n",
      " #   Column               Non-Null Count  Dtype  \n",
      "---  ------               --------------  -----  \n",
      " 0   ci_year              58088 non-null  int64  \n",
      " 1   ci_term              58088 non-null  int64  \n",
      " 2   si_grad              58088 non-null  int64  \n",
      " 3   si_ent_gubun         58088 non-null  int64  \n",
      " 4   agescale             58088 non-null  int64  \n",
      " 5   si_sex               58088 non-null  int64  \n",
      " 6   si_last_hak          58088 non-null  int64  \n",
      " 7   schoarYn             58088 non-null  int64  \n",
      " 8   accept_point         58088 non-null  int64  \n",
      " 9   avg_logincnt         58088 non-null  int64  \n",
      " 10  avg_att_time         58088 non-null  int64  \n",
      " 11  avg_att_rate         58088 non-null  float64\n",
      " 12  avg_bbscnt           58088 non-null  int64  \n",
      " 13  avg_startlogin       58088 non-null  int64  \n",
      " 14  entYn                58088 non-null  int64  \n",
      " 15  classcnt             58088 non-null  int64  \n",
      " 16  pre_avg_te_avg       58088 non-null  float64\n",
      " 17  pre_avg_te_passrate  58088 non-null  int64  \n",
      " 18  pre_gradcnt          58088 non-null  int64  \n",
      " 19  counsel              58088 non-null  int64  \n",
      " 20  stdResult            58088 non-null  int64  \n",
      "dtypes: float64(2), int64(19)\n",
      "memory usage: 9.3 MB\n",
      "None\n"
     ]
    }
   ],
   "source": [
    "features =14\n",
    "#filename=\"./dataset/20200614_v1.csv\"\n",
    "#filename=\"./dataset/20200717_v1.csv\"\n",
    "\n",
    "features =20\n",
    "filename=\"./dataset/20200605_v1.csv\"\n",
    "\n",
    "# 데이터 읽어 들이기--- (※1)\n",
    "df_pre = pd.read_csv(filename, header=0)\n",
    "#df_pre=pd.read_csv('./dataset/sjcu_stddata_v11_notitle.csv',encoding=\"cp949\", header=None) # CSV파일을 불러오는 함수를 이용\n",
    "#df_pre.tail()\n",
    "\n",
    "print(df_pre.info())\n",
    "\n",
    "\n",
    "# 데이터 내부의 기호를 숫자로 변환하기--- (※2)\n",
    "df = df_pre.sample(frac=1)\n",
    "dataset = df.values\n",
    "X = dataset[:,0:features]\n",
    "Y = dataset[:,features]\n",
    "# 학습 전용과 테스트 전용 데이터로 나누기 --- (※3)\n",
    "#테스트, 검증데이터 분학 7:3 \n",
    "X_train, X_test, Y_train, Y_test = train_test_split(X, Y, test_size=0.3, random_state=seed)\n",
    "X_train, X_test = X_train / 255, X_test / 255"
   ]
  },
  {
   "cell_type": "code",
   "execution_count": 5,
   "metadata": {},
   "outputs": [
    {
     "data": {
      "text/plain": [
       "SVC(C=1.0, break_ties=False, cache_size=200, class_weight=None, coef0=0.0,\n",
       "    decision_function_shape='ovr', degree=3, gamma='scale', kernel='rbf',\n",
       "    max_iter=-1, probability=False, random_state=None, shrinking=True,\n",
       "    tol=0.001, verbose=False)"
      ]
     },
     "execution_count": 5,
     "metadata": {},
     "output_type": "execute_result"
    }
   ],
   "source": [
    "clf = svm.SVC() #학습시키기\n",
    "clf.fit(X_train, Y_train)"
   ]
  },
  {
   "cell_type": "code",
   "execution_count": 6,
   "metadata": {},
   "outputs": [
    {
     "name": "stdout",
     "output_type": "stream",
     "text": [
      "SVM:\n",
      "r\r",
      "               precision    recall  f1-score   support\n",
      "\n",
      "         0.0       0.00      0.00      0.00      5229\n",
      "         1.0       0.70      1.00      0.82     12198\n",
      "\n",
      "    accuracy                           0.70     17427\n",
      "   macro avg       0.35      0.50      0.41     17427\n",
      "weighted avg       0.49      0.70      0.58     17427\n",
      "\n",
      "SVM:정답율 0.6999483559993114\n"
     ]
    },
    {
     "name": "stderr",
     "output_type": "stream",
     "text": [
      "C:\\programs\\anaconda3\\lib\\site-packages\\sklearn\\metrics\\_classification.py:1272: UndefinedMetricWarning: Precision and F-score are ill-defined and being set to 0.0 in labels with no predicted samples. Use `zero_division` parameter to control this behavior.\n",
      "  _warn_prf(average, modifier, msg_start, len(result))\n"
     ]
    }
   ],
   "source": [
    "from sklearn.metrics import classification_report, confusion_matrix\n",
    "y_prediction= clf.predict(X_test)  \n",
    "\n",
    "ac_score = metrics.accuracy_score(Y_test, y_prediction)\n",
    "Y_prediction = clf.predict(X_test)\n",
    "print('SVM:\\nr\\r', classification_report(Y_test, y_prediction))\n",
    "print(\"SVM:정답율\" , ac_score)"
   ]
  },
  {
   "cell_type": "code",
   "execution_count": null,
   "metadata": {},
   "outputs": [],
   "source": []
  }
 ],
 "metadata": {
  "kernelspec": {
   "display_name": "Python 3",
   "language": "python",
   "name": "python3"
  },
  "language_info": {
   "codemirror_mode": {
    "name": "ipython",
    "version": 3
   },
   "file_extension": ".py",
   "mimetype": "text/x-python",
   "name": "python",
   "nbconvert_exporter": "python",
   "pygments_lexer": "ipython3",
   "version": "3.7.7"
  }
 },
 "nbformat": 4,
 "nbformat_minor": 4
}
