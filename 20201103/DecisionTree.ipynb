{
 "cells": [
  {
   "cell_type": "code",
   "execution_count": 18,
   "metadata": {},
   "outputs": [],
   "source": [
    "#테이터 셋 생성을 위한 패키지\n",
    "from sklearn.model_selection import train_test_split\n",
    "\n",
    "# 의사결정 트리 알고리즘 서브 패키지\n",
    "from sklearn.tree import DecisionTreeClassifier\n",
    "from sklearn.metrics import classification_report\n",
    "from sklearn.metrics import accuracy_score"
   ]
  },
  {
   "cell_type": "code",
   "execution_count": 19,
   "metadata": {},
   "outputs": [],
   "source": [
    "#features =14\n",
    "#filename=\"./dataset/20200614_v1.csv\"\n",
    "#filename=\"./dataset/20200717_v1.csv\"\n",
    "\n",
    "# seed 값 설정\n",
    "seed = 0\n",
    "numpy.random.seed(seed)\n",
    "tf.set_random_seed(seed)\n",
    "\n",
    "features =20\n",
    "filename=\"./dataset/20200604_v1.csv\"\n",
    "# 데이터 읽어 들이기--- (※1)\n",
    "df_pre = pd.read_csv(filename, header=0)\n",
    "#df_pre=pd.read_csv('./dataset/sjcu_stddata_v11_notitle.csv',encoding=\"cp949\", header=None) # CSV파일을 불러오는 함수를 이용\n",
    "#df_pre.tail()"
   ]
  },
  {
   "cell_type": "code",
   "execution_count": 20,
   "metadata": {},
   "outputs": [],
   "source": [
    "# 데이터 내부의 기호를 숫자로 변환하기--- (※2)\n",
    "df = df_pre.sample(frac=1)\n",
    "dataset = df.values\n",
    "X = dataset[:,0:features]\n",
    "Y = dataset[:,features]"
   ]
  },
  {
   "cell_type": "code",
   "execution_count": 21,
   "metadata": {},
   "outputs": [],
   "source": [
    "# 학습 전용과 테스트 전용 데이터로 나누기 --- (※3)\n",
    "#테스트, 검증데이터 분학 7:3 \n",
    "X_train, X_test, Y_train, Y_test = train_test_split(X, Y, test_size=0.3, random_state=seed)\n",
    "X_train, X_test = X_train / 255., X_test / 255."
   ]
  },
  {
   "cell_type": "code",
   "execution_count": 22,
   "metadata": {},
   "outputs": [
    {
     "data": {
      "text/plain": [
       "DecisionTreeClassifier(ccp_alpha=0.0, class_weight=None, criterion='gini',\n",
       "                       max_depth=None, max_features=None, max_leaf_nodes=None,\n",
       "                       min_impurity_decrease=0.0, min_impurity_split=None,\n",
       "                       min_samples_leaf=1, min_samples_split=2,\n",
       "                       min_weight_fraction_leaf=0.0, presort='deprecated',\n",
       "                       random_state=None, splitter='best')"
      ]
     },
     "execution_count": 22,
     "metadata": {},
     "output_type": "execute_result"
    }
   ],
   "source": [
    "dtf = DecisionTreeClassifier()\n",
    "dtf.fit(X_train, Y_train)"
   ]
  },
  {
   "cell_type": "code",
   "execution_count": 23,
   "metadata": {},
   "outputs": [
    {
     "name": "stdout",
     "output_type": "stream",
     "text": [
      "f_measure of DecisionTree Model:\n",
      "r\r",
      "               precision    recall  f1-score   support\n",
      "\n",
      "         0.0       0.70      0.73      0.71      5229\n",
      "         1.0       0.88      0.87      0.87     12198\n",
      "\n",
      "    accuracy                           0.83     17427\n",
      "   macro avg       0.79      0.80      0.79     17427\n",
      "weighted avg       0.83      0.83      0.83     17427\n",
      "\n",
      "Accuracy of DecisionTree Model: 0.83\n"
     ]
    }
   ],
   "source": [
    "dtf = DecisionTreeClassifier()\n",
    "dtf.fit(X_train, Y_train)\n",
    "\n",
    "Y_prediction = dtf.predict(X_test)\n",
    "f_measure = classification_report(Y_test, Y_prediction)\n",
    "accuracy = accuracy_score(Y_test, Y_prediction)\n",
    "\n",
    "print('f_measure of DecisionTree Model:\\nr\\r', f_measure)\n",
    "print('Accuracy of DecisionTree Model: %.2f' % accuracy)"
   ]
  },
  {
   "cell_type": "code",
   "execution_count": null,
   "metadata": {},
   "outputs": [],
   "source": []
  },
  {
   "cell_type": "code",
   "execution_count": null,
   "metadata": {},
   "outputs": [],
   "source": []
  }
 ],
 "metadata": {
  "kernelspec": {
   "display_name": "Python 3",
   "language": "python",
   "name": "python3"
  },
  "language_info": {
   "codemirror_mode": {
    "name": "ipython",
    "version": 3
   },
   "file_extension": ".py",
   "mimetype": "text/x-python",
   "name": "python",
   "nbconvert_exporter": "python",
   "pygments_lexer": "ipython3",
   "version": "3.7.7"
  }
 },
 "nbformat": 4,
 "nbformat_minor": 4
}
