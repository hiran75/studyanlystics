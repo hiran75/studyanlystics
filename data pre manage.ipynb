{
 "cells": [
  {
   "cell_type": "code",
   "execution_count": 1,
   "metadata": {},
   "outputs": [
    {
     "name": "stderr",
     "output_type": "stream",
     "text": [
      "Using TensorFlow backend.\n"
     ]
    },
    {
     "name": "stdout",
     "output_type": "stream",
     "text": [
      "<class 'pandas.core.frame.DataFrame'>\n",
      "RangeIndex: 74667 entries, 0 to 74666\n",
      "Data columns (total 24 columns):\n",
      " #   Column              Non-Null Count  Dtype  \n",
      "---  ------              --------------  -----  \n",
      " 0   ci_year             74667 non-null  int64  \n",
      " 1   ci_term             74667 non-null  int64  \n",
      " 2   si_grad             74667 non-null  int64  \n",
      " 3   si_ent_gubun        74667 non-null  int64  \n",
      " 4   agescale            74667 non-null  int64  \n",
      " 5   si_sex              74667 non-null  int64  \n",
      " 6   si_last_hak         74667 non-null  int64  \n",
      " 7   schoarYn            74667 non-null  int64  \n",
      " 8   accept_point        74667 non-null  int64  \n",
      " 9   login_tot_cnt       74667 non-null  int64  \n",
      " 10  avg_logincnt        74667 non-null  int64  \n",
      " 11  startlogin_tot_cnt  74667 non-null  int64  \n",
      " 12  avg_startlogin      74667 non-null  int64  \n",
      " 13  avg_att_time        74667 non-null  int64  \n",
      " 14  avg_att_rate        74667 non-null  float64\n",
      " 15  entYn               74667 non-null  int64  \n",
      " 16  classcnt            74667 non-null  int64  \n",
      " 17  avg_te_avg          74667 non-null  float64\n",
      " 18  avg_te_passrate     74667 non-null  int64  \n",
      " 19  gradcnt             74667 non-null  int64  \n",
      " 20  s_code              74667 non-null  int64  \n",
      " 21  si_ent_sgrade       74667 non-null  int64  \n",
      " 22  notice_logcnt       74667 non-null  int64  \n",
      " 23  stdResult           74667 non-null  int64  \n",
      "dtypes: float64(2), int64(22)\n",
      "memory usage: 13.7 MB\n",
      "None\n"
     ]
    }
   ],
   "source": [
    "from keras.models import Sequential\n",
    "from keras.layers import Dense\n",
    "from sklearn.model_selection import train_test_split\n",
    "\n",
    "import numpy\n",
    "import pandas as pd\n",
    "import tensorflow as tf\n",
    "\n",
    "filename=\"./dataset/201201_201902_nonew.csv\"\n",
    "df_pre = pd.read_csv(filename, header=0)\n",
    "\n",
    "print(df_pre.info())"
   ]
  },
  {
   "cell_type": "code",
   "execution_count": null,
   "metadata": {},
   "outputs": [],
   "source": []
  }
 ],
 "metadata": {
  "kernelspec": {
   "display_name": "Python 3",
   "language": "python",
   "name": "python3"
  },
  "language_info": {
   "codemirror_mode": {
    "name": "ipython",
    "version": 3
   },
   "file_extension": ".py",
   "mimetype": "text/x-python",
   "name": "python",
   "nbconvert_exporter": "python",
   "pygments_lexer": "ipython3",
   "version": "3.7.7"
  }
 },
 "nbformat": 4,
 "nbformat_minor": 4
}
